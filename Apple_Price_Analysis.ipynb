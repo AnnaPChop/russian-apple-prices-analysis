{
 "cells": [
  {
   "cell_type": "markdown",
   "id": "eb820868",
   "metadata": {},
   "source": [
    "#  Import necessary libraries"
   ]
  },
  {
   "cell_type": "code",
   "execution_count": 2,
   "id": "9be1faab",
   "metadata": {},
   "outputs": [],
   "source": [
    "import numpy as np\n",
    "import pandas as pd\n",
    "import matplotlib.pyplot as plt\n",
    "import seaborn as sns"
   ]
  },
  {
   "cell_type": "markdown",
   "id": "64cd774a",
   "metadata": {},
   "source": [
    "### Set plot style for better aesthetics"
   ]
  },
  {
   "cell_type": "code",
   "execution_count": 3,
   "id": "651a41a6",
   "metadata": {},
   "outputs": [],
   "source": [
    "sns.set_style(\"whitegrid\")\n",
    "plt.rcParams['figure.figsize'] = (15, 7)"
   ]
  },
  {
   "cell_type": "markdown",
   "id": "8cf0391c",
   "metadata": {},
   "source": [
    "# Load the Data using NumPy"
   ]
  },
  {
   "cell_type": "code",
   "execution_count": 4,
   "id": "8b630439",
   "metadata": {},
   "outputs": [
    {
     "name": "stdout",
     "output_type": "stream",
     "text": [
      "Data loaded successfully!\n"
     ]
    }
   ],
   "source": [
    "try:\n",
    "    datos_precios = np.loadtxt(\n",
    "        \"manzanas.csv\",      \n",
    "        delimiter=\",\",       \n",
    "        skiprows=1,          \n",
    "        usecols=np.arange(1, 85) \n",
    "    )\n",
    "    print(\"Data loaded successfully!\")\n",
    "except IOError:\n",
    "    print(\"Error: 'manzanas.csv' not found. Please make sure the file is in the same directory.\")\n",
    "    # In case of error, create dummy data to allow the rest of the script to run\n",
    "    datos_precios = np.random.rand(5, 84) * 100 + 50"
   ]
  },
  {
   "cell_type": "markdown",
   "id": "53c673fc",
   "metadata": {},
   "source": [
    "# Initial Data Inspection"
   ]
  },
  {
   "cell_type": "code",
   "execution_count": 5,
   "id": "d5776864",
   "metadata": {},
   "outputs": [
    {
     "name": "stdout",
     "output_type": "stream",
     "text": [
      "Number of dimensions: 2\n",
      "Shape of the array: (5, 84)\n",
      "\n",
      "This shows we have data for 5 cities (rows) over 84 months (columns).\n"
     ]
    }
   ],
   "source": [
    "# Using the .ndim attribute to see the number of dimensions of our array.\n",
    "print(f\"Number of dimensions: {datos_precios.ndim}\")\n",
    "\n",
    "# Using the .shape attribute to see the form of our array (rows, columns).\n",
    "print(f\"Shape of the array: {datos_precios.shape}\")\n",
    "print(\"\\nThis shows we have data for 5 cities (rows) over 84 months (columns).\")"
   ]
  },
  {
   "cell_type": "markdown",
   "id": "51cbda80",
   "metadata": {},
   "source": [
    "# Transpose the Data for Time-Series Analysis"
   ]
  },
  {
   "cell_type": "code",
   "execution_count": 6,
   "id": "272c89f7",
   "metadata": {},
   "outputs": [
    {
     "name": "stdout",
     "output_type": "stream",
     "text": [
      "Shape of transposed array: (84, 5)\n",
      "\n",
      "Now we have 84 months (rows) and 5 cities (columns).\n"
     ]
    }
   ],
   "source": [
    "datos_transpuestos = datos_precios.T\n",
    "print(f\"Shape of transposed array: {datos_transpuestos.shape}\")\n",
    "print(\"\\nNow we have 84 months (rows) and 5 cities (columns).\")"
   ]
  },
  {
   "cell_type": "markdown",
   "id": "ccd7fee3",
   "metadata": {},
   "source": [
    "# Create a Pandas DataFrame for Enhanced Analysis"
   ]
  },
  {
   "cell_type": "code",
   "execution_count": 7,
   "id": "d23e1a2d",
   "metadata": {},
   "outputs": [
    {
     "name": "stderr",
     "output_type": "stream",
     "text": [
      "C:\\Users\\apicn\\AppData\\Local\\Temp\\ipykernel_70756\\1331466928.py:6: FutureWarning: 'M' is deprecated and will be removed in a future version, please use 'ME' instead.\n",
      "  fechas = pd.date_range(start=\"2013-01\", periods=84, freq='M')\n"
     ]
    },
    {
     "name": "stdout",
     "output_type": "stream",
     "text": [
      "DataFrame created successfully. Here are the first 5 rows:\n",
      "            Moscow  St. Petersburg  Novosibirsk  Yekaterinburg  Krasnoyarsk\n",
      "2013-01-31   79.72           42.67        62.55          48.26        71.25\n",
      "2013-02-28   81.08           44.37        62.73          51.01        71.35\n",
      "2013-03-31   79.68           44.73        63.43          50.91        70.90\n",
      "2013-04-30   79.80           46.75        63.83          53.94        71.92\n",
      "2013-05-31   80.63             NaN        66.06          61.27        72.91\n"
     ]
    }
   ],
   "source": [
    "# List of cities from the dataset\n",
    "ciudades = [\"Moscow\", \"St. Petersburg\", \"Novosibirsk\", \"Yekaterinburg\", \"Krasnoyarsk\"]\n",
    "\n",
    "# Create a date range for our 84 months, from 2013-01 to 2019-12\n",
    "# The dataset description says 2013-2020, but 84 months is exactly 7 years (2013-2019)\n",
    "fechas = pd.date_range(start=\"2013-01\", periods=84, freq='M')\n",
    "\n",
    "# Create the DataFrame\n",
    "df_precios = pd.DataFrame(data=datos_transpuestos, index=fechas, columns=ciudades)\n",
    "\n",
    "print(\"DataFrame created successfully. Here are the first 5 rows:\")\n",
    "print(df_precios.head())"
   ]
  }
 ],
 "metadata": {
  "kernelspec": {
   "display_name": "Python 3",
   "language": "python",
   "name": "python3"
  },
  "language_info": {
   "codemirror_mode": {
    "name": "ipython",
    "version": 3
   },
   "file_extension": ".py",
   "mimetype": "text/x-python",
   "name": "python",
   "nbconvert_exporter": "python",
   "pygments_lexer": "ipython3",
   "version": "3.12.4"
  }
 },
 "nbformat": 4,
 "nbformat_minor": 5
}
