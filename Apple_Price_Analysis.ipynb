{
 "cells": [
  {
   "cell_type": "markdown",
   "id": "eb820868",
   "metadata": {},
   "source": [
    "#  Import necessary libraries"
   ]
  },
  {
   "cell_type": "code",
   "execution_count": 2,
   "id": "9be1faab",
   "metadata": {},
   "outputs": [],
   "source": [
    "import numpy as np\n",
    "import pandas as pd\n",
    "import matplotlib.pyplot as plt\n",
    "import seaborn as sns"
   ]
  },
  {
   "cell_type": "markdown",
   "id": "64cd774a",
   "metadata": {},
   "source": [
    "### Set plot style for better aesthetics"
   ]
  },
  {
   "cell_type": "code",
   "execution_count": 3,
   "id": "651a41a6",
   "metadata": {},
   "outputs": [],
   "source": [
    "sns.set_style(\"whitegrid\")\n",
    "plt.rcParams['figure.figsize'] = (15, 7)"
   ]
  },
  {
   "cell_type": "markdown",
   "id": "8cf0391c",
   "metadata": {},
   "source": [
    "# Load the Data using NumPy"
   ]
  },
  {
   "cell_type": "code",
   "execution_count": 4,
   "id": "8b630439",
   "metadata": {},
   "outputs": [
    {
     "name": "stdout",
     "output_type": "stream",
     "text": [
      "Data loaded successfully!\n"
     ]
    }
   ],
   "source": [
    "try:\n",
    "    datos_precios = np.loadtxt(\n",
    "        \"manzanas.csv\",      \n",
    "        delimiter=\",\",       \n",
    "        skiprows=1,          \n",
    "        usecols=np.arange(1, 85) \n",
    "    )\n",
    "    print(\"Data loaded successfully!\")\n",
    "except IOError:\n",
    "    print(\"Error: 'manzanas.csv' not found. Please make sure the file is in the same directory.\")\n",
    "    # In case of error, create dummy data to allow the rest of the script to run\n",
    "    datos_precios = np.random.rand(5, 84) * 100 + 50"
   ]
  },
  {
   "cell_type": "markdown",
   "id": "53c673fc",
   "metadata": {},
   "source": [
    "# Initial Data Inspection"
   ]
  },
  {
   "cell_type": "code",
   "execution_count": 5,
   "id": "d5776864",
   "metadata": {},
   "outputs": [
    {
     "name": "stdout",
     "output_type": "stream",
     "text": [
      "Number of dimensions: 2\n",
      "Shape of the array: (5, 84)\n",
      "\n",
      "This shows we have data for 5 cities (rows) over 84 months (columns).\n"
     ]
    }
   ],
   "source": [
    "# Using the .ndim attribute to see the number of dimensions of our array.\n",
    "print(f\"Number of dimensions: {datos_precios.ndim}\")\n",
    "\n",
    "# Using the .shape attribute to see the form of our array (rows, columns).\n",
    "print(f\"Shape of the array: {datos_precios.shape}\")\n",
    "print(\"\\nThis shows we have data for 5 cities (rows) over 84 months (columns).\")"
   ]
  },
  {
   "cell_type": "markdown",
   "id": "51cbda80",
   "metadata": {},
   "source": [
    "# Transpose the Data for Time-Series Analysis"
   ]
  },
  {
   "cell_type": "code",
   "execution_count": 6,
   "id": "272c89f7",
   "metadata": {},
   "outputs": [
    {
     "name": "stdout",
     "output_type": "stream",
     "text": [
      "Shape of transposed array: (84, 5)\n",
      "\n",
      "Now we have 84 months (rows) and 5 cities (columns).\n"
     ]
    }
   ],
   "source": [
    "datos_transpuestos = datos_precios.T\n",
    "print(f\"Shape of transposed array: {datos_transpuestos.shape}\")\n",
    "print(\"\\nNow we have 84 months (rows) and 5 cities (columns).\")"
   ]
  },
  {
   "cell_type": "markdown",
   "id": "ccd7fee3",
   "metadata": {},
   "source": []
  }
 ],
 "metadata": {
  "kernelspec": {
   "display_name": "Python 3",
   "language": "python",
   "name": "python3"
  },
  "language_info": {
   "codemirror_mode": {
    "name": "ipython",
    "version": 3
   },
   "file_extension": ".py",
   "mimetype": "text/x-python",
   "name": "python",
   "nbconvert_exporter": "python",
   "pygments_lexer": "ipython3",
   "version": "3.12.4"
  }
 },
 "nbformat": 4,
 "nbformat_minor": 5
}
